{
  "nbformat": 4,
  "nbformat_minor": 0,
  "metadata": {
    "colab": {
      "name": "tp_tse_keras_image_classif.ipynb",
      "provenance": [],
      "collapsed_sections": []
    },
    "kernelspec": {
      "name": "python3",
      "display_name": "Python 3"
    },
    "accelerator": "GPU"
  },
  "cells": [
    {
      "cell_type": "markdown",
      "metadata": {
        "id": "zu6N7RJ7dUoa"
      },
      "source": [
        "# Introduction\n",
        "This practical work is about creation of elementary models in keras.\n",
        "While it focuses on image classification, it illustrates many important functionalities of the keras framework and tries to provide the user with good deep-learning development strategies.\n",
        "\n",
        "-------------------------------------\n",
        "\n",
        "Please, read the doc, everything is pretty well explained: https://keras.io/api/\n",
        "\n",
        "Check also the tutos:\n",
        "- https://blog.keras.io/\n",
        "- https://machinelearningmastery.com/\n"
      ]
    },
    {
      "cell_type": "code",
      "metadata": {
        "id": "diDc6LA-ABob",
        "colab": {
          "base_uri": "https://localhost:8080/"
        },
        "outputId": "98ee3f58-f8a4-42ae-bb9a-68cca4224b38"
      },
      "source": [
        "from google.colab import drive\n",
        "drive.mount('/content/drive')"
      ],
      "execution_count": 30,
      "outputs": [
        {
          "output_type": "stream",
          "name": "stdout",
          "text": [
            "Mounted at /content/drive\n"
          ]
        }
      ]
    },
    {
      "cell_type": "code",
      "metadata": {
        "id": "AYD_C2WumJye"
      },
      "source": [
        "from keras.datasets import mnist, fashion_mnist, cifar10\n",
        "from keras.preprocessing.image import ImageDataGenerator\n",
        "from keras.models import Model\n",
        "from keras.layers import Conv2D, Dense, Dropout, MaxPooling2D, Flatten, Input\n",
        "from tensorflow.keras.utils import to_categorical\n",
        "import numpy\n",
        "import os\n",
        "from tensorflow.keras.optimizers import SGD, Adam\n",
        "from matplotlib import pyplot as plt\n",
        "from keras.metrics import categorical_crossentropy"
      ],
      "execution_count": 31,
      "outputs": []
    },
    {
      "cell_type": "markdown",
      "metadata": {
        "id": "tC7Bu-qLdcoI"
      },
      "source": [
        "## Setup\n",
        "Before you start, please mount your google drive.\n",
        "For each exercise, create an output directory to store monitoring data and your model."
      ]
    },
    {
      "cell_type": "code",
      "metadata": {
        "id": "0QNnu_AgBBBR",
        "colab": {
          "base_uri": "https://localhost:8080/"
        },
        "outputId": "2fa28cba-29fe-405b-c616-c885c3d6a439"
      },
      "source": [
        "OUTDIR = \"/content/drive/My Drive/Classification\"\n",
        "if not os.path.exists(OUTDIR):\n",
        "  os.makedirs(OUTDIR)\n",
        "# First, check dimensions of the datasets !\n",
        "\n",
        "print(f\"Shape of images in cifar10: {(32, 32, 3)}\")\n",
        "print(f\"Shape of images in mnist: {(28, 28)}\")\n",
        "print(f\"Shape of images in fashion_mnist: {(28, 28)}\")"
      ],
      "execution_count": 32,
      "outputs": [
        {
          "output_type": "stream",
          "name": "stdout",
          "text": [
            "Shape of images in cifar10: (32, 32, 3)\n",
            "Shape of images in mnist: (28, 28)\n",
            "Shape of images in fashion_mnist: (28, 28)\n"
          ]
        }
      ]
    },
    {
      "cell_type": "markdown",
      "metadata": {
        "id": "P-c46sXwd8Eh"
      },
      "source": [
        "# EX1: Lenet-like classifier."
      ]
    },
    {
      "cell_type": "markdown",
      "metadata": {
        "id": "VXrk3AVtfLbS"
      },
      "source": [
        "## 1- Build model architecture\n",
        "The architecture has to be a CLASS called \"Lenet_like\".\n",
        "\n",
        "- I can define the width: number of filters in the first layer.\n",
        "- I can define the depth: number of conv layers.\n",
        "- I can specify the number of classes: output neurons.\n",
        "\n",
        "Lenet_like has no input tensor. But it has a \\_\\_call\\_\\_ function and can therefore be called on an input later.\n",
        "\n",
        "The rule to go from depth d to depth d+1, is to reduce the spatial size by a factor of 2 in each direction.\n",
        "\n",
        "Hidden dense layer will have 512 units."
      ]
    },
    {
      "cell_type": "code",
      "metadata": {
        "id": "jyZwILwynX9Q"
      },
      "source": [
        "# first model\n",
        "# Lenet-like\n",
        "class Lenet_like:\n",
        "  \"\"\"\n",
        "  Lenet like architecture.\n",
        "  \"\"\"\n",
        "  def __init__(self, width, depth, drop, n_classes):\n",
        "    \"\"\"\n",
        "    Architecture settings.\n",
        "\n",
        "    Arguments:\n",
        "      - width: int, first layer number of convolution filters.\n",
        "      - depth: int, number of convolution layer in the network.\n",
        "      - drop: float, dropout rate.\n",
        "      - n_classes: int, number of classes in the dataset.\n",
        "    \"\"\"\n",
        "    self.width = width\n",
        "    self.depth = depth\n",
        "    self.drop = drop\n",
        "    self.n_classes = n_classes\n",
        "  \n",
        "  def __call__(self, X):\n",
        "    \"\"\"\n",
        "    Call classifier layers on the inputs.\n",
        "    \"\"\"\n",
        "    \n",
        "    for k in range(self.depth):\n",
        "      # Apply successive convolutions to the input !\n",
        "      # Use the functional API to do so\n",
        "      \n",
        "      Y = Conv2D(\n",
        "          filters=(self.width / (2 ** k)),\n",
        "          kernel_size=5\n",
        "      )(X)\n",
        "\n",
        "      Y = MaxPooling2D()(Y)\n",
        "    \n",
        "    # Perceptron\n",
        "    # This is the classification head of the classifier\n",
        "    Y = Flatten()(Y)\n",
        "    Y = Dense(512, activation=\"relu\")(Y)\n",
        "\n",
        "    Y = Dropout(self.drop)(Y)\n",
        "    Y = Dense(self.n_classes, activation=\"softmax\")(Y)\n",
        "\n",
        "    return Y\n"
      ],
      "execution_count": 33,
      "outputs": []
    },
    {
      "cell_type": "markdown",
      "metadata": {
        "id": "W8OPc7nifmTm"
      },
      "source": [
        "## 2- A function to create a model with Lenet_like architecture\n",
        "I want the model to be able to fit on the following datasets:\n",
        "\n",
        "- mnist\n",
        "- fashion-mnist\n",
        "- cifar-10\n",
        "\n",
        "Create a function called \"make_lenet_model\" that take the name of one of these dataset as a str.\n",
        "It returns a keras Model object.\n",
        "It should obviously take all arguments to init the Lenet_like architecture.\n",
        "Arguments other than the dataset might have default values.\n",
        "I want to be able to monitor the accuracy of the model."
      ]
    },
    {
      "cell_type": "code",
      "metadata": {
        "id": "cFbWjtAB_BDi"
      },
      "source": [
        "def make_lenet_model(dataset,\n",
        "                     width=32,\n",
        "                     depth=2,\n",
        "                     drop=0.25,\n",
        "                     n_classes=10):\n",
        "  \"\"\"\n",
        "  Create a Lenet model adapted to the dimensions of a given dataset.\n",
        "  \"\"\"\n",
        "  if dataset == \"cifar10\":\n",
        "    # dimensions of input are: (32, 32, 3)\n",
        "    X = Input(batch_shape=(None, 32, 32, 3))\n",
        "  elif dataset == \"mnist\" or dataset == \"fashion_mnist\":\n",
        "    # dimensions of input are: (28, 28)\n",
        "    X = Input(batch_shape=(None, 28, 28, 1))\n",
        "  else:\n",
        "    raise NotImplementedError(\"Model not implemented for datastet {}\".format(dataset))\n",
        "  \n",
        "  Y = Lenet_like(width, depth, drop, n_classes)(X)\n",
        "  \n",
        "  model = Model(inputs=X, outputs=Y)\n",
        "  # Remember I wanna monitor accuracy\n",
        "  model.compile(\n",
        "      loss=categorical_crossentropy,\n",
        "      optimizer=Adam(),\n",
        "      metrics=[\"accuracy\"]\n",
        "  )\n",
        "  return model"
      ],
      "execution_count": 34,
      "outputs": []
    },
    {
      "cell_type": "markdown",
      "metadata": {
        "id": "bm0iDMSKgMF3"
      },
      "source": [
        "## 3- Create a fitting function\n",
        "\n",
        "I want a function \"fit_model_on\" with the following arguments:\n",
        "\n",
        "- dataset: str name of the dataset\n",
        "- epochs: number of times you fit on the entire training set\n",
        "- batch_size: number of images to average gradient on\n",
        "\n",
        "The function must create a Lenet model and fit it following these parameters.\n",
        "The function should:\n",
        "\n",
        "- fit the model, obviously\n",
        "- store the model architecture in a .json file in your output directory\n",
        "- store the model's weights in a .h5 file in your output directory\n",
        "- store the fitting metrics loss, validation_loss, accuracy, validation_accuracy under the form of a plot exported in a png file.\n",
        "\n",
        "Run your fitting function of course."
      ]
    },
    {
      "cell_type": "code",
      "metadata": {
        "id": "AS61Zmb5JeTB"
      },
      "source": [
        "def fit_model_on(dataset,\n",
        "                 epochs=100,\n",
        "                 batch_size=32,\n",
        "                 n_classes=10):\n",
        "  \n",
        "  model_filename = \"lenet_{}.json\".format(dataset)\n",
        "  weight_filename = \"lenet_{}_weights.h5\".format(dataset)\n",
        "  metricsplot_filename = \"lenet_{}_metrics.png\".format(dataset)\n",
        "  #accplot_filename = \"lenet_{}_accuracy.png\".format(dataset)\n",
        "  \n",
        "  # create your model and call it on your dataset\n",
        "  model = make_lenet_model(dataset)\n",
        "  # create a Keras ImageDataGenerator to handle your dataset\n",
        "  datagen = ImageDataGenerator()\n",
        "  \n",
        "  if dataset == \"cifar10\":\n",
        "    (x_train, y_train), (x_test, y_test) = cifar10.load_data()\n",
        "  elif dataset == \"mnist\":\n",
        "    (x_train, y_train), (x_test, y_test) = mnist.load_data()\n",
        "  elif dataset == \"fashion_mnist\":\n",
        "    (x_train, y_train), (x_test, y_test) = fashion_mnist.load_data()\n",
        "  else:\n",
        "    raise NotImplementedError(\"Model not implemented for datastet {}\".format(dataset))\n",
        "  \n",
        "  # Convert class vectors to binary class matrices (one-hot encoding).\n",
        "  y_train = to_categorical(y_train, n_classes)\n",
        "  y_test = to_categorical(y_test, n_classes)\n",
        "\n",
        "  # Be sure that your training/test data is 'float32'\n",
        "  x_train = x_train.astype(\"float32\")\n",
        "  x_test = x_test.astype(\"float32\")\n",
        "  # Be sure that your training/test data are between 0 and 1 (pixel image value)\n",
        "  x_train = x_train / 255\n",
        "  x_test = x_test / 255\n",
        "\n",
        "  try:\n",
        "    # Fit with keras using 'datagen', the previously defined image generator\n",
        "    history = model.fit(\n",
        "        datagen.flow(x_train, y_train, batch_size=32),\n",
        "        validation_data=(x_test, y_test),\n",
        "        epochs=epochs,\n",
        "    )\n",
        "  except KeyboardInterrupt:\n",
        "    print(\"Training interrupted!\")\n",
        "  \n",
        "  # first, save the model\n",
        "  json_str = model.to_json()\n",
        "  model_path = os.path.join(OUTDIR, model_filename)\n",
        "  weight_path = os.path.join(OUTDIR, weight_filename)\n",
        "  with open(model_path, \"w\") as txtfile:\n",
        "    txtfile.write(json_str)\n",
        "  \n",
        "  # then, save the weights\n",
        "  model.save_weights(weight_path)\n",
        "  \n",
        "  # finally, plot and save the metrics\n",
        "  figure, axis = plt.subplots(1, 2)\n",
        "  \n",
        "  axis[0].plot(history.history['loss'])\n",
        "  axis[0].plot(history.history['val_loss'])\n",
        "  axis[0].legend([\"Training Loss\", \"Validation Loss\"])\n",
        "  axis[0].set_title(\"Accuracy\")\n",
        "\n",
        "  axis[1].plot(history.history['accuracy'])\n",
        "  axis[1].plot(history.history['val_accuracy'])\n",
        "  axis[1].legend([\"Training Accuracy\", \"Validation Accuracy\"])\n",
        "  axis[1].set_title(\"Loss\")\n",
        "\n",
        "  metrics_path = os.path.join(OUTDIR, metricsplot_filename)\n",
        "  plt.savefig(metrics_path)"
      ],
      "execution_count": 55,
      "outputs": []
    },
    {
      "cell_type": "code",
      "metadata": {
        "id": "aXV-9BxNT59c",
        "colab": {
          "base_uri": "https://localhost:8080/",
          "height": 385
        },
        "outputId": "bea7bf68-3fbf-4593-c3fe-6e0f723070a4"
      },
      "source": [
        "# fit your model\n",
        "fit_model_on(\"cifar10\", epochs=3)"
      ],
      "execution_count": 56,
      "outputs": [
        {
          "output_type": "stream",
          "name": "stdout",
          "text": [
            "Epoch 1/3\n",
            "1563/1563 [==============================] - 8s 5ms/step - loss: 1.5030 - accuracy: 0.4691 - val_loss: 1.2818 - val_accuracy: 0.5483\n",
            "Epoch 2/3\n",
            "1563/1563 [==============================] - 7s 5ms/step - loss: 1.1924 - accuracy: 0.5833 - val_loss: 1.1927 - val_accuracy: 0.5857\n",
            "Epoch 3/3\n",
            "1563/1563 [==============================] - 8s 5ms/step - loss: 1.0239 - accuracy: 0.6439 - val_loss: 1.0993 - val_accuracy: 0.6236\n"
          ]
        },
        {
          "output_type": "display_data",
          "data": {
            "image/png": "[encoded data removed]",
            "text/plain": [
              "<Figure size 432x288 with 2 Axes>"
            ]
          },
          "metadata": {
            "needs_background": "light"
          }
        }
      ]
    },
    {
      "cell_type": "markdown",
      "metadata": {
        "id": "wxxaUv7qk-Zr"
      },
      "source": [
        "# EX2: Lenet-like auto-encoder.\n",
        "\n",
        "This one is very hard, It is fine if you do not finish.\n",
        "It's about autoencoders, feel free to read more about autoencoders : https://blog.keras.io/building-autoencoders-in-keras.html\n",
        "\n",
        "Autoencoders are a very special kind of model. Input $x$ is an image, output $y$ is an image. The model is supposed to predict $x = y$ ! Usually, you build an autoencoder to create a 'deep' representation of your images : the model break your image into a high level descriptor that is useful to build your image back (the descriptors' space is supposed to be very powerful for clustering and image matching algorithms). The representation is built in an unsupervised way ; if $f$ is the function defined by your model, then you expect $f$ to be such as:\n",
        "$$f(x) = y;$$\n",
        "$$x = y$$\n",
        "So you try to minimize $||f(x) - x||^2$ (mean squared error)"
      ]
    },
    {
      "cell_type": "markdown",
      "metadata": {
        "id": "k_IaGLkclOmM"
      },
      "source": [
        "## 1- Build model architecture\n",
        "The architecture has to be a CLASS called \"Autoencoder\".\n",
        "\n",
        "Basically, an autoencoder has two parts:\n",
        "- the Encoder $(conv2D-Maxpooling)\\times n$\n",
        "- the Decoder $(conv2D-Upsampling)\\times n$\n",
        "\n",
        "\n",
        "Autoencoder has no input tensor. But it has a \\_\\_call\\_\\_ function and can therefore be called on an input later.\n",
        "\n",
        "------------------------------\n",
        "\n",
        "For the Encoder:\n",
        "\n",
        "The rule to go from depth d to depth d+1, is to reduce the spatial size by a factor of 2 in each direction.\n",
        "\n",
        "------------------------------\n",
        "For the Decoder:\n",
        "\n",
        "The rule to go from depth d to depth d+1, is to increase the spatial size by a factor of 2 in each direction.\n"
      ]
    },
    {
      "cell_type": "code",
      "metadata": {
        "id": "mCG3NvJJpy8B"
      },
      "source": [
        "from keras.layers import BatchNormalization, UpSampling2D"
      ],
      "execution_count": null,
      "outputs": []
    },
    {
      "cell_type": "code",
      "metadata": {
        "id": "hJ8Io8DFp0sI"
      },
      "source": [
        "OUTDIR = \"/content/drive/My Drive/Autoencoding\"\n",
        "if not os.path.exists(OUTDIR):\n",
        "  os.makedirs(OUTDIR)"
      ],
      "execution_count": null,
      "outputs": []
    },
    {
      "cell_type": "code",
      "metadata": {
        "id": "L2XEJ0oTESRR"
      },
      "source": [
        "# first model\n",
        "# Lenet-like\n",
        "class Autoencoder:\n",
        "  \"\"\"\n",
        "  Aurtoencoder architecture.\n",
        "  \"\"\"\n",
        "  def __init__(self):\n",
        "    \"\"\"\n",
        "    Architecture settings.\n",
        "    \"\"\"\n",
        "    # nothing to do in the init.\n",
        "  \n",
        "  def __call__(self, X):\n",
        "    \"\"\"\n",
        "    Call autoencoder layers on the inputs.\n",
        "    \"\"\"\n",
        "\n",
        "    # encode\n",
        "    Y = ...\n",
        "    Y = ...\n",
        "    Y = ...\n",
        "    # decode\n",
        "    Y = ...\n",
        "    Y = ...\n",
        "    Y = ...\n",
        "\n",
        "    return Y"
      ],
      "execution_count": null,
      "outputs": []
    },
    {
      "cell_type": "markdown",
      "metadata": {
        "id": "QyQr2CKeqk8b"
      },
      "source": [
        "## 2- A function to create a model with your Autoencoder architecture\n",
        "I want the model to be able to fit on the following datasets:\n",
        "\n",
        "- cifar-10\n",
        "\n",
        "Create a function called \"make_autoencoder_model\" that take no argument.\n",
        "It only returns a keras Model object."
      ]
    },
    {
      "cell_type": "code",
      "metadata": {
        "id": "tiF9FQEBqbHB"
      },
      "source": [
        "def make_autoencoder_model():\n",
        "  \"\"\"\n",
        "  Create and compile autoencoder keras model.\n",
        "  \"\"\"\n",
        "  X = Input(batch_shape=(...))\n",
        "  Y = Autoencoder()(X)\n",
        "  model = Model(inputs=X, outputs=Y)\n",
        "  model.compile(optimizer='adam', metrics=['accuracy'], loss='mean_squared_error')\n",
        "  return model"
      ],
      "execution_count": null,
      "outputs": []
    },
    {
      "cell_type": "markdown",
      "metadata": {
        "id": "gIk0P030rHwK"
      },
      "source": [
        "Useful function to plot the resulting image produced by your autoencoder.\n",
        "Read them carefully if you want to plot your output correctly (especially 'comparison')"
      ]
    },
    {
      "cell_type": "code",
      "metadata": {
        "id": "kk8X5Vm4rGEr"
      },
      "source": [
        "def stack_horizontally(min, max, images):\n",
        "    return numpy.hstack(images[i] for i in range(min, max))\n",
        "\n",
        "def stack_vertically(length, height, images):\n",
        "    return numpy.vstack(stack_horizontally(i * length, (i + 1) * length, images) for i in range(height))\n",
        "\n",
        "def comparison(inputimgs, outputimgs, length, height):\n",
        "    A = stack_vertically(length, height, inputimgs)\n",
        "    B = stack_vertically(length, height, outputimgs)\n",
        "    C = numpy.ones((A.shape[0], 32, 3))\n",
        "    return numpy.hstack((A, C, B))"
      ],
      "execution_count": null,
      "outputs": []
    },
    {
      "cell_type": "markdown",
      "metadata": {
        "id": "muPRC6hfseSH"
      },
      "source": [
        "## 3- Create a fitting function\n",
        "\n",
        "I want a function \"fit_model_cifar10\" with the following arguments:\n",
        "\n",
        "- dataset: str name of the dataset\n",
        "- n_epochs: number of times you fit on the entire training set\n",
        "- batch_size: number of images to average gradient on\n",
        "- visualization_size (square root of number of test pred you wanna show to check your result)\n",
        "- verbose (debug purpose to see tensor dimensions in your architecture)\n",
        "\n",
        "The function must create an autoencoder model and fit it following these parameters.\n",
        "The function should:\n",
        "\n",
        "- fit the model, obviously\n",
        "- store the model architecture in a .json file in your output directory\n",
        "- store the model's weights in a .h5 file in your output directory\n",
        "- store the fitting metrics loss, validation_loss, under the form of a plot exported in a png file.\n",
        "- store the rebuilt test images under the form of a plot exported in a png file.\n",
        "\n",
        "Run your fitting function of course."
      ]
    },
    {
      "cell_type": "code",
      "metadata": {
        "id": "-yXeUGocrRDp"
      },
      "source": [
        "def fit_model_on_cifar10(n_epochs=3, batch_size=128, visualization_size=5, verbose=1):\n",
        "\n",
        "  model_filename = \"autoencoder_cifar10.json\"\n",
        "  weight_filename = \"autoencoder_cifar10_weights.h5\"\n",
        "  lossplot_filename = \"autoencoder_cifar10_loss.png\"\n",
        "  visuplot_filename = \"autoencoder_cifar10_visu.png\"\n",
        "  # create your model and call it on your dataset\n",
        "  model = ...\n",
        "  if verbose > 0:\n",
        "    print(model.summary())\n",
        "  (x_train, _), (x_test, _) = cifar10.load_data()\n",
        "  # Be sure that your training/test data is 'float32'\n",
        "  x_train = ...\n",
        "  x_test = ...\n",
        "  # Be sure that your training/test data are between 0 and 1 (pixel image value)\n",
        "  x_train ...\n",
        "  x_test ...\n",
        "  try:\n",
        "    history = model.fit(...)\n",
        "  except KeyboardInterrupt:\n",
        "    print(\"Training interrupted!\")\n",
        "  \n",
        "  # first, save the model\n",
        "  json_str = model.to_json()\n",
        "  model_path = os.path.join(OUTDIR, model_filename)\n",
        "  weight_path = os.path.join(OUTDIR, weight_filename)\n",
        "  with open(model_path, \"w\") as txtfile:\n",
        "    txtfile.write(json_str)\n",
        "  # then, save the weights\n",
        "  model.save_weights(weight_path)\n",
        "  # now, save metrics plots\n",
        "  ..."
      ],
      "execution_count": null,
      "outputs": []
    },
    {
      "cell_type": "code",
      "metadata": {
        "id": "UQEtpB9rsU_2"
      },
      "source": [
        "# fit your model\n",
        "..."
      ],
      "execution_count": null,
      "outputs": []
    }
  ]
}